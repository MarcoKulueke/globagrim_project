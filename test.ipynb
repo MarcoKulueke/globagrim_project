{
 "cells": [
  {
   "cell_type": "code",
   "execution_count": null,
   "metadata": {},
   "outputs": [],
   "source": [
    "from globagrim import model"
   ]
  },
  {
   "cell_type": "code",
   "execution_count": null,
   "metadata": {
    "scrolled": true
   },
   "outputs": [],
   "source": [
    "model.run(IEXP=3, TF=0.0125)"
   ]
  },
  {
   "cell_type": "markdown",
   "metadata": {},
   "source": [
    "____________________"
   ]
  },
  {
   "cell_type": "markdown",
   "metadata": {},
   "source": [
    "### GIF EXP2 SE"
   ]
  },
  {
   "cell_type": "markdown",
   "metadata": {},
   "source": [
    "n = 0\n",
    "for i in range(-180,180,3):\n",
    "    if n <10:\n",
    "        save='/Users/marco/Desktop/gif/00'+ str(n)+ '.png'\n",
    "    if n>=10 and n<100:\n",
    "        save='/Users/marco/Desktop/gif/0'+ str(n)+ '.png'\n",
    "    if n>100:\n",
    "        save='/Users/marco/Desktop/gif/'+ str(n)+ '.png'\n",
    "    model.plot(var_name='SE', center=(i, 0), save=save)\n",
    "    n = n +1"
   ]
  },
  {
   "cell_type": "markdown",
   "metadata": {},
   "source": [
    "### GIF EXP2 U"
   ]
  },
  {
   "cell_type": "markdown",
   "metadata": {},
   "source": [
    "n = 0\n",
    "for k in [-90,90]:\n",
    "    if k == -90:\n",
    "        for i in range(-90,90,2):\n",
    "            if n <10:\n",
    "                save='/Users/marco/Desktop/gif/00'+ str(n)+ '.png'\n",
    "            if n>=10 and n<100:\n",
    "                save='/Users/marco/Desktop/gif/0'+ str(n)+ '.png'\n",
    "            if n>100:\n",
    "                save='/Users/marco/Desktop/gif/'+ str(n)+ '.png'\n",
    "            model.plot(var_name='U', center=(k, i), save=save)\n",
    "            n = n +1\n",
    "    if k == 90:\n",
    "        for i in range(90,-90,-2):\n",
    "            if n <10:\n",
    "                save='/Users/marco/Desktop/gif/00'+ str(n)+ '.png'\n",
    "            if n>=10 and n<100:\n",
    "                save='/Users/marco/Desktop/gif/0'+ str(n)+ '.png'\n",
    "            if n>100:\n",
    "                save='/Users/marco/Desktop/gif/'+ str(n)+ '.png'\n",
    "            model.plot(var_name='U', center=(k, i), save=save)\n",
    "            n = n +1"
   ]
  },
  {
   "cell_type": "markdown",
   "metadata": {},
   "source": [
    "### GIF EXP3 U"
   ]
  },
  {
   "cell_type": "code",
   "execution_count": null,
   "metadata": {},
   "outputs": [],
   "source": [
    "n = 0\n",
    "for i in range(-180,180,3):\n",
    "    if n <10:\n",
    "        save='/Users/marco/Desktop/gif/00'+ str(n)+ '.png'\n",
    "    if n>=10 and n<100:\n",
    "        save='/Users/marco/Desktop/gif/0'+ str(n)+ '.png'\n",
    "    if n>100:\n",
    "        save='/Users/marco/Desktop/gif/'+ str(n)+ '.png'\n",
    "    model.plot(var_name='U', center=(i, 0), save=save, levels=3)\n",
    "    n = n +1"
   ]
  },
  {
   "cell_type": "code",
   "execution_count": null,
   "metadata": {},
   "outputs": [],
   "source": []
  }
 ],
 "metadata": {
  "kernelspec": {
   "display_name": "Python 3",
   "language": "python",
   "name": "python3"
  },
  "language_info": {
   "codemirror_mode": {
    "name": "ipython",
    "version": 3
   },
   "file_extension": ".py",
   "mimetype": "text/x-python",
   "name": "python",
   "nbconvert_exporter": "python",
   "pygments_lexer": "ipython3",
   "version": "3.9.4"
  }
 },
 "nbformat": 4,
 "nbformat_minor": 4
}
