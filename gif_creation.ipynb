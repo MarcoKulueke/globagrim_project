{
 "cells": [
  {
   "cell_type": "code",
   "execution_count": null,
   "metadata": {},
   "outputs": [],
   "source": [
    "from globagrim import model"
   ]
  },
  {
   "cell_type": "markdown",
   "metadata": {},
   "source": [
    "# Create PNGs\n",
    "\n",
    "## PNGs Experiment 1"
   ]
  },
  {
   "cell_type": "code",
   "execution_count": null,
   "metadata": {},
   "outputs": [],
   "source": [
    "model.run(NJ=80, NK=40, IEXP=1, TF=0.0125)"
   ]
  },
  {
   "cell_type": "code",
   "execution_count": null,
   "metadata": {},
   "outputs": [],
   "source": [
    "n = 0\n",
    "for i in range(-180,180,3):\n",
    "    if n <10:\n",
    "        save='/Users/marco/Desktop/gif/00'+ str(n)+ '.png'\n",
    "    if n>=10 and n<100:\n",
    "        save='/Users/marco/Desktop/gif/0'+ str(n)+ '.png'\n",
    "    if n>100:\n",
    "        save='/Users/marco/Desktop/gif/'+ str(n)+ '.png'\n",
    "    model.plot(var_name='PSG', center=(i, 0), save=save)\n",
    "    n = n +1"
   ]
  },
  {
   "cell_type": "markdown",
   "metadata": {},
   "source": [
    "## PNGs Experiment 2"
   ]
  },
  {
   "cell_type": "code",
   "execution_count": null,
   "metadata": {},
   "outputs": [],
   "source": [
    "model.run(NJ=80, NK=40, IEXP=2, TF=0.0125)"
   ]
  },
  {
   "cell_type": "code",
   "execution_count": null,
   "metadata": {},
   "outputs": [],
   "source": [
    "# Surface Elevation\n",
    "\n",
    "n = 0\n",
    "for i in range(-180,180,3):\n",
    "    if n <10:\n",
    "        save='/Users/marco/Desktop/gif/00'+ str(n)+ '.png'\n",
    "    if n>=10 and n<100:\n",
    "        save='/Users/marco/Desktop/gif/0'+ str(n)+ '.png'\n",
    "    if n>100:\n",
    "        save='/Users/marco/Desktop/gif/'+ str(n)+ '.png'\n",
    "    model.plot(var_name='SE', center=(i, 0), save=save)\n",
    "    n = n +1"
   ]
  },
  {
   "cell_type": "code",
   "execution_count": null,
   "metadata": {},
   "outputs": [],
   "source": [
    "# Zonal Wind\n",
    "\n",
    "n = 0\n",
    "for k in [-90,90]:\n",
    "    if k == -90:\n",
    "        for i in range(-90,90,2):\n",
    "            if n <10:\n",
    "                save='/Users/marco/Desktop/gif/00'+ str(n)+ '.png'\n",
    "            if n>=10 and n<100:\n",
    "                save='/Users/marco/Desktop/gif/0'+ str(n)+ '.png'\n",
    "            if n>100:\n",
    "                save='/Users/marco/Desktop/gif/'+ str(n)+ '.png'\n",
    "            model.plot(var_name='U', center=(k, i), save=save)\n",
    "            n = n +1\n",
    "    if k == 90:\n",
    "        for i in range(90,-90,-2):\n",
    "            if n <10:\n",
    "                save='/Users/marco/Desktop/gif/00'+ str(n)+ '.png'\n",
    "            if n>=10 and n<100:\n",
    "                save='/Users/marco/Desktop/gif/0'+ str(n)+ '.png'\n",
    "            if n>100:\n",
    "                save='/Users/marco/Desktop/gif/'+ str(n)+ '.png'\n",
    "            model.plot(var_name='U', center=(k, i), save=save)\n",
    "            n = n +1"
   ]
  },
  {
   "cell_type": "markdown",
   "metadata": {},
   "source": [
    "## PNGs Experiment 3"
   ]
  },
  {
   "cell_type": "code",
   "execution_count": null,
   "metadata": {},
   "outputs": [],
   "source": [
    "model.run(NJ=80, NK=40, IEXP=3, TF=0.0125)"
   ]
  },
  {
   "cell_type": "code",
   "execution_count": null,
   "metadata": {},
   "outputs": [],
   "source": [
    "# Zonal Wind\n",
    "\n",
    "n = 0\n",
    "for i in range(-180,180,3):\n",
    "    if n <10:\n",
    "        save='/Users/marco/Desktop/gif/00'+ str(n)+ '.png'\n",
    "    if n>=10 and n<100:\n",
    "        save='/Users/marco/Desktop/gif/0'+ str(n)+ '.png'\n",
    "    if n>100:\n",
    "        save='/Users/marco/Desktop/gif/'+ str(n)+ '.png'\n",
    "    model.plot(var_name='U', center=(i, 0), save=save, levels=3)\n",
    "    n = n +1"
   ]
  },
  {
   "cell_type": "code",
   "execution_count": null,
   "metadata": {},
   "outputs": [],
   "source": [
    "# Meriodional Wind\n",
    "\n",
    "n = 0\n",
    "for k in [-90,90]:\n",
    "    if k == -90:\n",
    "        for i in range(-90,90,2):\n",
    "            if n <10:\n",
    "                save='/Users/marco/Desktop/gif/00'+ str(n)+ '.png'\n",
    "            if n>=10 and n<100:\n",
    "                save='/Users/marco/Desktop/gif/0'+ str(n)+ '.png'\n",
    "            if n>100:\n",
    "                save='/Users/marco/Desktop/gif/'+ str(n)+ '.png'\n",
    "            model.plot(var_name='V', center=(k, i), save=save)\n",
    "            n = n +1\n",
    "    if k == 90:\n",
    "        for i in range(90,-90,-2):\n",
    "            if n <10:\n",
    "                save='/Users/marco/Desktop/gif/00'+ str(n)+ '.png'\n",
    "            if n>=10 and n<100:\n",
    "                save='/Users/marco/Desktop/gif/0'+ str(n)+ '.png'\n",
    "            if n>100:\n",
    "                save='/Users/marco/Desktop/gif/'+ str(n)+ '.png'\n",
    "            model.plot(var_name='V', center=(k, i), save=save)\n",
    "            n = n +1"
   ]
  },
  {
   "cell_type": "markdown",
   "metadata": {},
   "source": [
    "# Create GIF\n",
    "\n",
    "Execute `convert -delay 10 *.png out.gif` in terminal."
   ]
  }
 ],
 "metadata": {
  "kernelspec": {
   "display_name": "Python 3",
   "language": "python",
   "name": "python3"
  },
  "language_info": {
   "codemirror_mode": {
    "name": "ipython",
    "version": 3
   },
   "file_extension": ".py",
   "mimetype": "text/x-python",
   "name": "python",
   "nbconvert_exporter": "python",
   "pygments_lexer": "ipython3",
   "version": "3.9.4"
  }
 },
 "nbformat": 4,
 "nbformat_minor": 4
}
