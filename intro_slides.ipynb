{
 "cells": [
  {
   "cell_type": "markdown",
   "metadata": {
    "slideshow": {
     "slide_type": "slide"
    }
   },
   "source": [
    "<img src=\"png/logo.png\">\n",
    "\n",
    "# <center> Global Atmospheric Grid Point Model </center>"
   ]
  },
  {
   "cell_type": "markdown",
   "metadata": {
    "slideshow": {
     "slide_type": "slide"
    }
   },
   "source": [
    "# Scientific Model\n",
    "\n",
    "\"*A model is a task-driven, purposeful simplification and abstraction of a perception of reality.*\" <sub> Tolk, A. (2015). Learning something right from models that are wrong – Epistemology of Simulation. In Yilmaz, L. (Ed.) Concepts and Methodologies in Modelling and Simulation. Springer–Verlag. pp. 87–106 </sub>"
   ]
  },
  {
   "cell_type": "markdown",
   "metadata": {
    "slideshow": {
     "slide_type": "subslide"
    }
   },
   "source": [
    "# Globagrim\n",
    "\n",
    "- **Task**:\n",
    "    - perfrom numerical simulations on your PC\n",
    "    - enhance educational understanding of numerical climate models\n",
    "    \n",
    "    \n",
    "- **Simplification**\n",
    "    - barotropic\n",
    "    - only atmoshpere\n",
    "    - neglet external forcings\n",
    "    \n",
    "- **Abstraction** \n",
    "    - tbd"
   ]
  },
  {
   "cell_type": "markdown",
   "metadata": {
    "slideshow": {
     "slide_type": "slide"
    }
   },
   "source": [
    "# Numerical Model\n",
    "- picture of grid\n",
    "- discretization of space and time"
   ]
  },
  {
   "cell_type": "markdown",
   "metadata": {
    "slideshow": {
     "slide_type": "slide"
    }
   },
   "source": [
    "# Installation\n",
    "\n",
    "Create a conda environment with\n",
    "```\n",
    "conda env create -f environment.yml\n",
    "```\n",
    "This installs GLOBAGRIM and all dependencies.\n",
    "Then, activate the environment with:\n",
    "```\n",
    "conda activate globagrim_env\n",
    "```\n",
    "---\n",
    "If you already have ` numpy, xarray, netcdf4, matplotlib, cartopy, jupyter` installed, you can also add the GLOBAGRIM package to your current environment by executing:\n",
    "```\n",
    "pip install git+git://github.com/MarcoKulueke/globagrim_project.git#egg=globagrim\n",
    "```"
   ]
  },
  {
   "cell_type": "markdown",
   "metadata": {
    "slideshow": {
     "slide_type": "slide"
    }
   },
   "source": [
    "# Usage"
   ]
  },
  {
   "cell_type": "code",
   "execution_count": null,
   "metadata": {
    "slideshow": {
     "slide_type": "subslide"
    }
   },
   "outputs": [],
   "source": [
    "from globagrim import model"
   ]
  },
  {
   "cell_type": "code",
   "execution_count": null,
   "metadata": {
    "slideshow": {
     "slide_type": "subslide"
    }
   },
   "outputs": [],
   "source": [
    "model.run()"
   ]
  },
  {
   "cell_type": "code",
   "execution_count": null,
   "metadata": {
    "slideshow": {
     "slide_type": "subslide"
    }
   },
   "outputs": [],
   "source": [
    "model.plot()"
   ]
  },
  {
   "cell_type": "markdown",
   "metadata": {
    "slideshow": {
     "slide_type": "slide"
    }
   },
   "source": [
    "# Optional Parameters"
   ]
  },
  {
   "cell_type": "markdown",
   "metadata": {
    "slideshow": {
     "slide_type": "subslide"
    }
   },
   "source": [
    "## `run()`\n",
    "- `NJ` Number of west-east circles of longitude\n",
    "- `NK` Number of north-south circles of latitude\n",
    "- `NL` Number of vertical levels \n",
    "- `TF` Total integration time in hours\n",
    "- `DT` Integration time step in seconds\n",
    "- `IEXP` Experiment number (`1` low pressure system over the pacific, `2` stream over montain in North America, `3` random wind field)\n",
    "- `INT` Output intervall in hours\n",
    "- `OUT` Output path and file name\n",
    "\n",
    "\n"
   ]
  },
  {
   "cell_type": "markdown",
   "metadata": {
    "slideshow": {
     "slide_type": "subslide"
    }
   },
   "source": [
    "### Experiments\n",
    "\n",
    "<img src=\"gif/exp2_se.gif\">"
   ]
  },
  {
   "cell_type": "markdown",
   "metadata": {
    "slideshow": {
     "slide_type": "subslide"
    }
   },
   "source": [
    "## `plot()`\n",
    "- `var_name` String variable name (`SE`, `PSG`, `T`, `U`, `V`)\n",
    "- `out_step` Integer output time step\n",
    "- `center` Touple `(<lon>,<lat>)` for center of visualization\n",
    "- `min_max` Touple `(<min>,<max>)` for a fixed colorbar"
   ]
  },
  {
   "cell_type": "markdown",
   "metadata": {
    "slideshow": {
     "slide_type": "fragment"
    }
   },
   "source": [
    "Fragments just appear"
   ]
  },
  {
   "cell_type": "markdown",
   "metadata": {
    "slideshow": {
     "slide_type": "slide"
    }
   },
   "source": [
    "# Future Ideas\n",
    "- parallelisation\n",
    "- start simulation with ERA5 data"
   ]
  },
  {
   "cell_type": "markdown",
   "metadata": {
    "slideshow": {
     "slide_type": "slide"
    }
   },
   "source": [
    "# Example Call\n",
    "\n",
    "-> Now it's Your Turn!"
   ]
  }
 ],
 "metadata": {
  "celltoolbar": "Slideshow",
  "kernelspec": {
   "display_name": "Python 3",
   "language": "python",
   "name": "python3"
  },
  "language_info": {
   "codemirror_mode": {
    "name": "ipython",
    "version": 3
   },
   "file_extension": ".py",
   "mimetype": "text/x-python",
   "name": "python",
   "nbconvert_exporter": "python",
   "pygments_lexer": "ipython3",
   "version": "3.9.4"
  }
 },
 "nbformat": 4,
 "nbformat_minor": 4
}
