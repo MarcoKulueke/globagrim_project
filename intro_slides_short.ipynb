{
 "cells": [
  {
   "cell_type": "markdown",
   "metadata": {
    "slideshow": {
     "slide_type": "slide"
    }
   },
   "source": [
    "<img src=\"png/logo.png\">\n",
    "\n",
    "# <center> Global Atmospheric Grid Point Model </center>"
   ]
  },
  {
   "cell_type": "markdown",
   "metadata": {
    "slideshow": {
     "slide_type": "subslide"
    }
   },
   "source": [
    "# Globagrim\n",
    "\n",
    "- **Task**:\n",
    "    - Perform numerical weather & climate simulations on your PC\n",
    "    - Enhance educational understanding of numerical weather & climate models\n",
    "    \n",
    "    \n",
    "- **Simplification**\n",
    "    - Only atmoshpere\n",
    "    - Neglet external forcings (sun, CO<sub>2</sub>)"
   ]
  },
  {
   "cell_type": "markdown",
   "metadata": {
    "slideshow": {
     "slide_type": "slide"
    }
   },
   "source": [
    "# Numerical Atmospheric Model\n",
    "\n",
    "- Uses mathematical equations to predict the future state of the the atmosphere\n",
    "- Spatial domain and time interval are discretized (broken in finite number of steps)\n",
    "- Numerical stability depends on\n",
    "    - Distance between model grid points\n",
    "    - Model time step length\n",
    "<img src=\"png/grid.png\"> "
   ]
  },
  {
   "cell_type": "markdown",
   "metadata": {
    "slideshow": {
     "slide_type": "slide"
    }
   },
   "source": [
    "# Installation\n",
    "\n",
    "Create a conda environment with\n",
    "\n",
    "`conda env create -f environment.yml`\n",
    "\n",
    "This installs GLOBAGRIM and all dependencies.\n",
    "Then, activate the environment with:\n",
    "\n",
    "`conda activate globagrim_env`\n",
    "\n",
    "---\n",
    "### Alternative\n",
    "If you already have ` numpy`, `xarray`, `netcdf4`, `matplotlib`, `cartopy`, `jupyter` installed, you can also add the GLOBAGRIM package to your current environment by executing:\n",
    "\n",
    "`pip install git+git://github.com/MarcoKulueke/globagrim_project.git#egg=globagrim`\n",
    "\n",
    "---"
   ]
  },
  {
   "cell_type": "markdown",
   "metadata": {
    "slideshow": {
     "slide_type": "slide"
    }
   },
   "source": [
    "# Usage"
   ]
  },
  {
   "cell_type": "code",
   "execution_count": 1,
   "metadata": {
    "slideshow": {
     "slide_type": "subslide"
    }
   },
   "outputs": [],
   "source": [
    "from globagrim import model"
   ]
  },
  {
   "cell_type": "code",
   "execution_count": 2,
   "metadata": {
    "slideshow": {
     "slide_type": "subslide"
    }
   },
   "outputs": [
    {
     "name": "stdout",
     "output_type": "stream",
     "text": [
      "Number of longitudes:  144\n",
      "Number of latitudes:  72\n",
      "Number of model time steps:  6\n",
      "Output every  1  model time steps\n",
      "Init:  /Users/marco/Documents/globagrim_project/output.nc\n",
      "Write initial conditions to output.\n",
      "---\n",
      "Model time step:  0 , Elapsed model time:  0.25  minutes\n",
      "Write to output\n",
      "---\n",
      "Model time step:  1 , Time:  0.5  minutes\n",
      "Write to output\n",
      "---\n",
      "Model time step:  2 , Time:  0.75  minutes\n",
      "Write to output\n",
      "---\n",
      "Model time step:  3 , Time:  1.0  minutes\n",
      "Write to output\n",
      "---\n",
      "Model time step:  4 , Time:  1.25  minutes\n",
      "Write to output\n",
      "---\n",
      "Model time step:  5 , Time:  1.5  minutes\n",
      "Write to output\n",
      "---\n"
     ]
    }
   ],
   "source": [
    "model.run()"
   ]
  },
  {
   "cell_type": "code",
   "execution_count": 3,
   "metadata": {
    "slideshow": {
     "slide_type": "subslide"
    }
   },
   "outputs": [
    {
     "data": {
      "image/png": "[encoded data removed]",
      "text/plain": [
       "<Figure size 432x288 with 2 Axes>"
      ]
     },
     "metadata": {
      "needs_background": "light"
     },
     "output_type": "display_data"
    }
   ],
   "source": [
    "model.plot()"
   ]
  },
  {
   "cell_type": "markdown",
   "metadata": {
    "slideshow": {
     "slide_type": "slide"
    }
   },
   "source": [
    "# Optional Parameters"
   ]
  },
  {
   "cell_type": "markdown",
   "metadata": {
    "slideshow": {
     "slide_type": "subslide"
    }
   },
   "source": [
    "## `run()`\n",
    "- `NJ` Number of west-east circles of longitude\n",
    "- `NK` Number of north-south circles of latitude\n",
    "- `NL` Number of vertical levels \n",
    "- `TF` Total integration time in hours\n",
    "- `DT` Integration time step in seconds\n",
    "- `IEXP` Experiment number (`1` low pressure system over the Pacific, `2` stream over montain in North America, `3` random wind field)\n",
    "- `INT` Output intervall in hours\n",
    "- `OUT` Output path and file name\n",
    "\n",
    "Example:\n",
    "\n",
    "`model.run(NJ=80, NK=40, NL=10, TF=0.5, DT=30, IEXP=2, INT=0.1, OUT='test.nc')`"
   ]
  },
  {
   "cell_type": "markdown",
   "metadata": {
    "slideshow": {
     "slide_type": "subslide"
    }
   },
   "source": [
    "### IEXP =  1 (low pressure system over the Pacific)\n",
    "<img src=\"gif/exp1.gif\">"
   ]
  },
  {
   "cell_type": "markdown",
   "metadata": {
    "slideshow": {
     "slide_type": "subslide"
    }
   },
   "source": [
    "### IEXP =  2 (stream over montain in North America)\n",
    "SE                         |U\n",
    ":-------------------------:|:-------------------------:\n",
    "<img src=\"gif/exp2_se.gif\">|<img src=\"gif/exp2_u.gif\">"
   ]
  },
  {
   "cell_type": "markdown",
   "metadata": {
    "slideshow": {
     "slide_type": "subslide"
    }
   },
   "source": [
    "### IEXP =  3 (random wind field)\n",
    "U                          |V\n",
    ":-------------------------:|:-------------------------:\n",
    "<img src=\"gif/exp3_u.gif\">|<img src=\"gif/exp3_v.gif\">"
   ]
  },
  {
   "cell_type": "markdown",
   "metadata": {
    "slideshow": {
     "slide_type": "subslide"
    }
   },
   "source": [
    "<img src=\"gif/disco.gif\">"
   ]
  },
  {
   "cell_type": "markdown",
   "metadata": {
    "slideshow": {
     "slide_type": "subslide"
    }
   },
   "source": [
    "## `plot()`\n",
    "- `var_name` String variable name (`SE`, `PSG`, `T`, `U`, `V`)\n",
    "- `out_step` Integer output time step\n",
    "- `center` Touple `(<lon>,<lat>)` for center of visualization\n",
    "- `min_max` Touple `(<min>,<max>)` for a fixed colorbar\n",
    "- `save` String (e.g. `test.png`)\n",
    "\n",
    "Example:\n",
    "\n",
    "`model.plot(var_name='U', out_step=4, center=(-180, 50), min_max=(0,20), save='test.png')`"
   ]
  },
  {
   "cell_type": "markdown",
   "metadata": {
    "slideshow": {
     "slide_type": "slide"
    }
   },
   "source": [
    "# Now, it's your Turn\n",
    "\n",
    "- Play around with space and time \n",
    "- Try different experiments\n",
    "- Can you make the model crash?\n",
    "- Visualize where and when the crash happens\n",
    "- [...]"
   ]
  },
  {
   "cell_type": "markdown",
   "metadata": {
    "slideshow": {
     "slide_type": "fragment"
    }
   },
   "source": [
    "model.run()                          |model.plot()\n",
    ":-------------------------:|:-------------------------:\n",
    "`NJ` Number of west-east circles of longitude | `var_name` String variable name (`SE`, `PSG`, `T`, `U`, `V`)\n",
    "`NK` Number of north-south circles of latitude | `out_step` Integer output time step\n",
    "`NL` Number of vertical levels | `center` Touple `(<lon>,<lat>)` for center of visualization\n",
    "`TF` Total integration time in hours | `min_max` Touple `(<min>,<max>)` for a fixed colorbar\n",
    "`DT` Integration time step in seconds | `save` String (e.g. `test.png`)\n",
    "`IEXP` Experiment number (`1` low, `2` mountain stream, `3` random wind) |\n",
    "`INT` Output intervall in hours |\n",
    "`OUT` Output path and file name |"
   ]
  }
 ],
 "metadata": {
  "celltoolbar": "Slideshow",
  "kernelspec": {
   "display_name": "Python 3 (ipykernel)",
   "language": "python",
   "name": "python3"
  },
  "language_info": {
   "codemirror_mode": {
    "name": "ipython",
    "version": 3
   },
   "file_extension": ".py",
   "mimetype": "text/x-python",
   "name": "python",
   "nbconvert_exporter": "python",
   "pygments_lexer": "ipython3",
   "version": "3.13.3"
  }
 },
 "nbformat": 4,
 "nbformat_minor": 4
}
